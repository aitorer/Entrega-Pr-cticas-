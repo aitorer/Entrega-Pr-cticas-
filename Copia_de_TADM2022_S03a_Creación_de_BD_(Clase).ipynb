{
  "nbformat": 4,
  "nbformat_minor": 0,
  "metadata": {
    "colab": {
      "provenance": [],
      "include_colab_link": true
    },
    "kernelspec": {
      "name": "python3",
      "display_name": "Python 3"
    }
  },
  "cells": [
    {
      "cell_type": "markdown",
      "metadata": {
        "id": "view-in-github",
        "colab_type": "text"
      },
      "source": [
        "<a href=\"https://colab.research.google.com/github/aitorer/Entrega-Practicas-/blob/main/Copia_de_TADM2022_S03a_Creaci%C3%B3n_de_BD_(Clase).ipynb\" target=\"_parent\"><img src=\"https://colab.research.google.com/assets/colab-badge.svg\" alt=\"Open In Colab\"/></a>"
      ]
    },
    {
      "cell_type": "markdown",
      "source": [
        "[Guia al Conjunto de Datos](https://sorry.vse.cz/~berka/challenge/pkdd1999/berka.htm)\n",
        "\n",
        "[Extracto del Diseño](https://dbdesigner.page.link/7iRemaQAUMsbFb2o7)\n"
      ],
      "metadata": {
        "id": "6qBI7QH6kMWJ"
      }
    },
    {
      "cell_type": "markdown",
      "source": [
        "Estudiante: `....`"
      ],
      "metadata": {
        "id": "0fjaTZ-wLcLj"
      }
    },
    {
      "cell_type": "markdown",
      "metadata": {
        "id": "ovfBigxLcvig"
      },
      "source": [
        "# Creación de la Base de Datos"
      ]
    },
    {
      "cell_type": "markdown",
      "source": [
        "Importamos las librerías Python que vamos a utilizar para acceder a las bases\n",
        "de datos."
      ],
      "metadata": {
        "id": "LQkOt_9QjwCh"
      }
    },
    {
      "cell_type": "markdown",
      "source": [
        "Con este comando se importan las herramientas necesarias para trabajar con la base de datos\n"
      ],
      "metadata": {
        "id": "qA_qBUGw7sIT"
      }
    },
    {
      "cell_type": "code",
      "source": [
        "import pandas as pd\n",
        "import sqlite3 as sql\n",
        "import codecs"
      ],
      "metadata": {
        "id": "zExX0mW1hZhL"
      },
      "execution_count": null,
      "outputs": []
    },
    {
      "cell_type": "markdown",
      "metadata": {
        "id": "4XrKj-bXcEEP"
      },
      "source": [
        "\n",
        "Vamos a crear nuestra base de datos. \n",
        "\n",
        "SQLite se maneja a nivel de fichero, si este no exite entonces de crea. En Colab siempre de forma no permanente. \n",
        "\n",
        "Para manejar este fichero manejaremos el objeto de **conexión** a la base de datos.  \n",
        "\n",
        ">Una **conexión** a base de datos es la forma que un servidor de base de datos y su software cliente se comunican entre sí. \n",
        "\n",
        ">El cliente utiliza una conexión a base de datos para enviar comando y recibir respuestas del servidor\n",
        "\n"
      ]
    },
    {
      "cell_type": "markdown",
      "source": [
        "Este comando le da un nombre al fichero y le indico que me conecte a ese fichero"
      ],
      "metadata": {
        "id": "wGMEVtXq8MZ8"
      }
    },
    {
      "cell_type": "code",
      "metadata": {
        "id": "QbjC_7xCcDof",
        "colab": {
          "base_uri": "https://localhost:8080/"
        },
        "outputId": "bd667b02-7059-478e-c93e-4753c910a3ed"
      },
      "source": [
        "dbfile = \"data_berka.db\"\n",
        "\n",
        "con = sql.connect(dbfile)\n",
        "con"
      ],
      "execution_count": null,
      "outputs": [
        {
          "output_type": "execute_result",
          "data": {
            "text/plain": [
              "<sqlite3.Connection at 0x7f25dcf8dab0>"
            ]
          },
          "metadata": {},
          "execution_count": 2
        }
      ]
    },
    {
      "cell_type": "markdown",
      "source": [
        "Lo siguiente vamos a crear una **tabla** de las que tenemos. Normalmente crearemos aquella que no contiene claves ajenas como district. \n",
        "\n",
        "Para ello con la sentencia CREATE identificamos los atributos que va a tener la tabla.\n",
        "\n",
        "```\n",
        "CREATE TABLE <nombre_tabla> (\n",
        "  <nombre_campo> <tipo campo> <primary key, not null, etc.>,\n",
        "  ...\n",
        "  FOREIGN KEY (<nombre_campo_fk) \n",
        "     REFERENCES <nombre_tabla_referencia> (<nombre_pk_tabla_referencia>)\n",
        ")\n",
        "```\n",
        "Los tipos de datos que se manejan en SQLite se pueden consultar en [SQLite Data Types](https://www.sqlite.org/datatype3.html)"
      ],
      "metadata": {
        "id": "61xVBg3cjs5q"
      }
    },
    {
      "cell_type": "markdown",
      "source": [
        "Existen diferentes tipos de datos:\n",
        "\n",
        "-NULOS, el valor es NULL.\n",
        "\n",
        "-VERDADERO, Es un valor de punto flotante, almacenado como un número de punto flotante de IEEE 8bytes.\n",
        "\n",
        "-TEXTO, Es una cadena de texto, que se almacena mediante la codificación de la base de datos.\n",
        "\n",
        "-ENTERO, Es un valor entero con signo que se puede almacenar en 0,1,2,3,4,6 y 8 bytes.\n",
        "\n",
        "-BLOB, se trata de una gota de datos, que se guarda como se introdujo."
      ],
      "metadata": {
        "id": "4lfDmvco8urV"
      }
    },
    {
      "cell_type": "markdown",
      "metadata": {
        "id": "LwJu3GpZciXE"
      },
      "source": [
        "## Cargar tabla district\n",
        "\n",
        "\n",
        "\n",
        "\n",
        "\n",
        "\n",
        "\n",
        "\n"
      ]
    },
    {
      "cell_type": "markdown",
      "source": [
        "Cargamos los datos de nuestra fuente de datos\n"
      ],
      "metadata": {
        "id": "nb3g_SrpkJkU"
      }
    },
    {
      "cell_type": "code",
      "metadata": {
        "colab": {
          "base_uri": "https://localhost:8080/"
        },
        "id": "4VXwQu4oXQ9L",
        "outputId": "6c8977ab-7e49-441e-9ea6-63a6102b52af"
      },
      "source": [
        "!wget https://raw.githubusercontent.com/zhouxu-ds/loan-default-prediction/main/data/district.asc"
      ],
      "execution_count": null,
      "outputs": [
        {
          "output_type": "stream",
          "name": "stdout",
          "text": [
            "--2022-11-09 15:22:58--  https://raw.githubusercontent.com/zhouxu-ds/loan-default-prediction/main/data/district.asc\n",
            "Resolving raw.githubusercontent.com (raw.githubusercontent.com)... 185.199.110.133, 185.199.109.133, 185.199.111.133, ...\n",
            "Connecting to raw.githubusercontent.com (raw.githubusercontent.com)|185.199.110.133|:443... connected.\n",
            "HTTP request sent, awaiting response... 200 OK\n",
            "Length: 6574 (6.4K) [text/plain]\n",
            "Saving to: ‘district.asc’\n",
            "\n",
            "\rdistrict.asc          0%[                    ]       0  --.-KB/s               \rdistrict.asc        100%[===================>]   6.42K  --.-KB/s    in 0s      \n",
            "\n",
            "2022-11-09 15:22:58 (31.7 MB/s) - ‘district.asc’ saved [6574/6574]\n",
            "\n"
          ]
        }
      ]
    },
    {
      "cell_type": "markdown",
      "source": [
        "Para crear la tabla ejecutaremos execute y la sentencia CREATE correspondiente, ponemos entre paréntesis lo que queremos meter dentro de esa tabla, con INT hacemos referencia al número entero y cuando es REAL a un número indiferentemente."
      ],
      "metadata": {
        "id": "BUabGjhP21jJ"
      }
    },
    {
      "cell_type": "code",
      "metadata": {
        "id": "VACq0XGqc31e",
        "colab": {
          "base_uri": "https://localhost:8080/"
        },
        "outputId": "2237261a-b86e-40b9-970c-8fadec607482"
      },
      "source": [
        "con.execute('CREATE TABLE DISTRICT (A1 INT PRIMARY KEY, A2 TEXT, A3 TEXT, A4 INT,A5 INT, A6 INT,' + \n",
        "  'A7 INT, A8 INT, A9 INT, A10 REAL, A11 INT, A12 REAL, A13 REAL, A14 INT, A15 INT, A16 INT)')\n"
      ],
      "execution_count": null,
      "outputs": [
        {
          "output_type": "execute_result",
          "data": {
            "text/plain": [
              "<sqlite3.Cursor at 0x7f25dce5e570>"
            ]
          },
          "metadata": {},
          "execution_count": 4
        }
      ]
    },
    {
      "cell_type": "markdown",
      "metadata": {
        "id": "dh21CGsUe0jq"
      },
      "source": [
        "\n",
        "Finalmente \"guardaremos los cambios\" con **commit**\n",
        "\n",
        "> Una sentencia **COMMIT** en SQL finaliza una transacción de base de datos dentro de un sistema gestor de base de datos relacional (RDBMS) y hace visibles todos los cambios a otros usuario"
      ]
    },
    {
      "cell_type": "code",
      "metadata": {
        "id": "2gz-qizwew8o"
      },
      "source": [
        "con.commit()"
      ],
      "execution_count": null,
      "outputs": []
    },
    {
      "cell_type": "markdown",
      "metadata": {
        "id": "oti79UXjXq6L"
      },
      "source": [
        "Cualquier ejecución de una sentencia SQL sobre la base de datos nos crea un cursor el cual utilizaremos sobre todo para las consultas \n",
        "\n",
        "> Cursor se refiere a una estructura de control utilizada para el recorrido (y potencial procesamiento) de los registros del resultado de una consulta."
      ]
    },
    {
      "cell_type": "code",
      "metadata": {
        "id": "igF0i-YjfAxK",
        "colab": {
          "base_uri": "https://localhost:8080/"
        },
        "outputId": "44ed9bfe-842c-4ffa-d6cd-4317587904a6"
      },
      "source": [
        "cursor = con.execute(\"SELECT name FROM sqlite_master WHERE type='table';\")\n",
        "tables = [\n",
        "     v[0] for v in cursor.fetchall()\n",
        "     if v[0] != \"sqlite_sequence\"\n",
        "]\n",
        "cursor.close()\n",
        "tables"
      ],
      "execution_count": null,
      "outputs": [
        {
          "output_type": "execute_result",
          "data": {
            "text/plain": [
              "['DISTRICT']"
            ]
          },
          "metadata": {},
          "execution_count": 6
        }
      ]
    },
    {
      "cell_type": "markdown",
      "source": [
        "Lo que observamos entre parentesis nos indica que se trata de una consulta de tipo comando o plantilla que nos proporcionará las tablas que tengamos dentro de la base de datos"
      ],
      "metadata": {
        "id": "iNUYsTrA-qlC"
      }
    },
    {
      "cell_type": "markdown",
      "metadata": {
        "id": "Ubust44pf0dA"
      },
      "source": [
        "3. Cargamos los datos de la tabla\n"
      ]
    },
    {
      "cell_type": "markdown",
      "metadata": {
        "id": "1vPCOkfiYbsT"
      },
      "source": [
        "En este caso lo vamos a hacer mediante la utilización de una librería de Python como es PANDAS"
      ]
    },
    {
      "cell_type": "code",
      "metadata": {
        "id": "GOYd1TUcWhcD"
      },
      "source": [
        "pd.read_csv('district.asc', sep = \";\" ).to_sql('DISTRICT', con, if_exists='append', index = False)"
      ],
      "execution_count": null,
      "outputs": []
    },
    {
      "cell_type": "markdown",
      "source": [
        "Primero se lee el CSV, luego vemos el separador con su fichero. Lo siguente es mandar los datos donde queremos, si existe se añade y no se pone ningún índice."
      ],
      "metadata": {
        "id": "bB_ce49U-7ZF"
      }
    },
    {
      "cell_type": "markdown",
      "metadata": {
        "id": "SKrvkCc1gLOd"
      },
      "source": [
        "4. Vamos a consultar los datos que tiene esta tabla que acabamos de cargar"
      ]
    },
    {
      "cell_type": "markdown",
      "source": [
        "Comprobamos que hemos creado la tabla\n"
      ],
      "metadata": {
        "id": "r0wXxX5-AMdd"
      }
    },
    {
      "cell_type": "code",
      "metadata": {
        "id": "ht2WOANbwKnD",
        "colab": {
          "base_uri": "https://localhost:8080/",
          "height": 554
        },
        "outputId": "740dc7f8-714f-4953-830a-2749cd4d0e97"
      },
      "source": [
        "pd.read_sql_query(\"SELECT * FROM DISTRICT\", con)"
      ],
      "execution_count": null,
      "outputs": [
        {
          "output_type": "execute_result",
          "data": {
            "text/plain": [
              "    A1               A2               A3       A4  A5  A6  A7  A8  A9    A10  \\\n",
              "0    1      Hl.m. Praha           Prague  1204953   0   0   0   1   1  100.0   \n",
              "1    2          Benesov  central Bohemia    88884  80  26   6   2   5   46.7   \n",
              "2    3           Beroun  central Bohemia    75232  55  26   4   1   5   41.7   \n",
              "3    4           Kladno  central Bohemia   149893  63  29   6   2   6   67.4   \n",
              "4    5            Kolin  central Bohemia    95616  65  30   4   1   6   51.4   \n",
              "..  ..              ...              ...      ...  ..  ..  ..  ..  ..    ...   \n",
              "72  73            Opava    north Moravia   182027  17  49  12   2   7   56.4   \n",
              "73  74  Ostrava - mesto    north Moravia   323870   0   0   0   1   1  100.0   \n",
              "74  75           Prerov    north Moravia   138032  67  30   4   2   5   64.6   \n",
              "75  76          Sumperk    north Moravia   127369  31  32  13   2   7   51.2   \n",
              "76  77           Vsetin    north Moravia   148545   8  35  12   3   4   53.5   \n",
              "\n",
              "      A11   A12   A13  A14    A15    A16  \n",
              "0   12541  0.29  0.43  167  85677  99107  \n",
              "1    8507  1.67  1.85  132   2159   2674  \n",
              "2    8980  1.95  2.21  111   2824   2813  \n",
              "3    9753  4.64  5.05  109   5244   5892  \n",
              "4    9307  3.85  4.43  118   2616   3040  \n",
              "..    ...   ...   ...  ...    ...    ...  \n",
              "72   8746  3.33  3.74   90   4355   4433  \n",
              "73  10673  4.75  5.44  100  18782  18347  \n",
              "74   8819  5.38  5.66   99   4063   4505  \n",
              "75   8369  4.73  5.88  107   3736   2807  \n",
              "76   8909  4.01  5.56  113   3460   3590  \n",
              "\n",
              "[77 rows x 16 columns]"
            ],
            "text/html": [
              "\n",
              "  <div id=\"df-e85ccafc-06d5-493c-a7d3-68df9a066c57\">\n",
              "    <div class=\"colab-df-container\">\n",
              "      <div>\n",
              "<style scoped>\n",
              "    .dataframe tbody tr th:only-of-type {\n",
              "        vertical-align: middle;\n",
              "    }\n",
              "\n",
              "    .dataframe tbody tr th {\n",
              "        vertical-align: top;\n",
              "    }\n",
              "\n",
              "    .dataframe thead th {\n",
              "        text-align: right;\n",
              "    }\n",
              "</style>\n",
              "<table border=\"1\" class=\"dataframe\">\n",
              "  <thead>\n",
              "    <tr style=\"text-align: right;\">\n",
              "      <th></th>\n",
              "      <th>A1</th>\n",
              "      <th>A2</th>\n",
              "      <th>A3</th>\n",
              "      <th>A4</th>\n",
              "      <th>A5</th>\n",
              "      <th>A6</th>\n",
              "      <th>A7</th>\n",
              "      <th>A8</th>\n",
              "      <th>A9</th>\n",
              "      <th>A10</th>\n",
              "      <th>A11</th>\n",
              "      <th>A12</th>\n",
              "      <th>A13</th>\n",
              "      <th>A14</th>\n",
              "      <th>A15</th>\n",
              "      <th>A16</th>\n",
              "    </tr>\n",
              "  </thead>\n",
              "  <tbody>\n",
              "    <tr>\n",
              "      <th>0</th>\n",
              "      <td>1</td>\n",
              "      <td>Hl.m. Praha</td>\n",
              "      <td>Prague</td>\n",
              "      <td>1204953</td>\n",
              "      <td>0</td>\n",
              "      <td>0</td>\n",
              "      <td>0</td>\n",
              "      <td>1</td>\n",
              "      <td>1</td>\n",
              "      <td>100.0</td>\n",
              "      <td>12541</td>\n",
              "      <td>0.29</td>\n",
              "      <td>0.43</td>\n",
              "      <td>167</td>\n",
              "      <td>85677</td>\n",
              "      <td>99107</td>\n",
              "    </tr>\n",
              "    <tr>\n",
              "      <th>1</th>\n",
              "      <td>2</td>\n",
              "      <td>Benesov</td>\n",
              "      <td>central Bohemia</td>\n",
              "      <td>88884</td>\n",
              "      <td>80</td>\n",
              "      <td>26</td>\n",
              "      <td>6</td>\n",
              "      <td>2</td>\n",
              "      <td>5</td>\n",
              "      <td>46.7</td>\n",
              "      <td>8507</td>\n",
              "      <td>1.67</td>\n",
              "      <td>1.85</td>\n",
              "      <td>132</td>\n",
              "      <td>2159</td>\n",
              "      <td>2674</td>\n",
              "    </tr>\n",
              "    <tr>\n",
              "      <th>2</th>\n",
              "      <td>3</td>\n",
              "      <td>Beroun</td>\n",
              "      <td>central Bohemia</td>\n",
              "      <td>75232</td>\n",
              "      <td>55</td>\n",
              "      <td>26</td>\n",
              "      <td>4</td>\n",
              "      <td>1</td>\n",
              "      <td>5</td>\n",
              "      <td>41.7</td>\n",
              "      <td>8980</td>\n",
              "      <td>1.95</td>\n",
              "      <td>2.21</td>\n",
              "      <td>111</td>\n",
              "      <td>2824</td>\n",
              "      <td>2813</td>\n",
              "    </tr>\n",
              "    <tr>\n",
              "      <th>3</th>\n",
              "      <td>4</td>\n",
              "      <td>Kladno</td>\n",
              "      <td>central Bohemia</td>\n",
              "      <td>149893</td>\n",
              "      <td>63</td>\n",
              "      <td>29</td>\n",
              "      <td>6</td>\n",
              "      <td>2</td>\n",
              "      <td>6</td>\n",
              "      <td>67.4</td>\n",
              "      <td>9753</td>\n",
              "      <td>4.64</td>\n",
              "      <td>5.05</td>\n",
              "      <td>109</td>\n",
              "      <td>5244</td>\n",
              "      <td>5892</td>\n",
              "    </tr>\n",
              "    <tr>\n",
              "      <th>4</th>\n",
              "      <td>5</td>\n",
              "      <td>Kolin</td>\n",
              "      <td>central Bohemia</td>\n",
              "      <td>95616</td>\n",
              "      <td>65</td>\n",
              "      <td>30</td>\n",
              "      <td>4</td>\n",
              "      <td>1</td>\n",
              "      <td>6</td>\n",
              "      <td>51.4</td>\n",
              "      <td>9307</td>\n",
              "      <td>3.85</td>\n",
              "      <td>4.43</td>\n",
              "      <td>118</td>\n",
              "      <td>2616</td>\n",
              "      <td>3040</td>\n",
              "    </tr>\n",
              "    <tr>\n",
              "      <th>...</th>\n",
              "      <td>...</td>\n",
              "      <td>...</td>\n",
              "      <td>...</td>\n",
              "      <td>...</td>\n",
              "      <td>...</td>\n",
              "      <td>...</td>\n",
              "      <td>...</td>\n",
              "      <td>...</td>\n",
              "      <td>...</td>\n",
              "      <td>...</td>\n",
              "      <td>...</td>\n",
              "      <td>...</td>\n",
              "      <td>...</td>\n",
              "      <td>...</td>\n",
              "      <td>...</td>\n",
              "      <td>...</td>\n",
              "    </tr>\n",
              "    <tr>\n",
              "      <th>72</th>\n",
              "      <td>73</td>\n",
              "      <td>Opava</td>\n",
              "      <td>north Moravia</td>\n",
              "      <td>182027</td>\n",
              "      <td>17</td>\n",
              "      <td>49</td>\n",
              "      <td>12</td>\n",
              "      <td>2</td>\n",
              "      <td>7</td>\n",
              "      <td>56.4</td>\n",
              "      <td>8746</td>\n",
              "      <td>3.33</td>\n",
              "      <td>3.74</td>\n",
              "      <td>90</td>\n",
              "      <td>4355</td>\n",
              "      <td>4433</td>\n",
              "    </tr>\n",
              "    <tr>\n",
              "      <th>73</th>\n",
              "      <td>74</td>\n",
              "      <td>Ostrava - mesto</td>\n",
              "      <td>north Moravia</td>\n",
              "      <td>323870</td>\n",
              "      <td>0</td>\n",
              "      <td>0</td>\n",
              "      <td>0</td>\n",
              "      <td>1</td>\n",
              "      <td>1</td>\n",
              "      <td>100.0</td>\n",
              "      <td>10673</td>\n",
              "      <td>4.75</td>\n",
              "      <td>5.44</td>\n",
              "      <td>100</td>\n",
              "      <td>18782</td>\n",
              "      <td>18347</td>\n",
              "    </tr>\n",
              "    <tr>\n",
              "      <th>74</th>\n",
              "      <td>75</td>\n",
              "      <td>Prerov</td>\n",
              "      <td>north Moravia</td>\n",
              "      <td>138032</td>\n",
              "      <td>67</td>\n",
              "      <td>30</td>\n",
              "      <td>4</td>\n",
              "      <td>2</td>\n",
              "      <td>5</td>\n",
              "      <td>64.6</td>\n",
              "      <td>8819</td>\n",
              "      <td>5.38</td>\n",
              "      <td>5.66</td>\n",
              "      <td>99</td>\n",
              "      <td>4063</td>\n",
              "      <td>4505</td>\n",
              "    </tr>\n",
              "    <tr>\n",
              "      <th>75</th>\n",
              "      <td>76</td>\n",
              "      <td>Sumperk</td>\n",
              "      <td>north Moravia</td>\n",
              "      <td>127369</td>\n",
              "      <td>31</td>\n",
              "      <td>32</td>\n",
              "      <td>13</td>\n",
              "      <td>2</td>\n",
              "      <td>7</td>\n",
              "      <td>51.2</td>\n",
              "      <td>8369</td>\n",
              "      <td>4.73</td>\n",
              "      <td>5.88</td>\n",
              "      <td>107</td>\n",
              "      <td>3736</td>\n",
              "      <td>2807</td>\n",
              "    </tr>\n",
              "    <tr>\n",
              "      <th>76</th>\n",
              "      <td>77</td>\n",
              "      <td>Vsetin</td>\n",
              "      <td>north Moravia</td>\n",
              "      <td>148545</td>\n",
              "      <td>8</td>\n",
              "      <td>35</td>\n",
              "      <td>12</td>\n",
              "      <td>3</td>\n",
              "      <td>4</td>\n",
              "      <td>53.5</td>\n",
              "      <td>8909</td>\n",
              "      <td>4.01</td>\n",
              "      <td>5.56</td>\n",
              "      <td>113</td>\n",
              "      <td>3460</td>\n",
              "      <td>3590</td>\n",
              "    </tr>\n",
              "  </tbody>\n",
              "</table>\n",
              "<p>77 rows × 16 columns</p>\n",
              "</div>\n",
              "      <button class=\"colab-df-convert\" onclick=\"convertToInteractive('df-e85ccafc-06d5-493c-a7d3-68df9a066c57')\"\n",
              "              title=\"Convert this dataframe to an interactive table.\"\n",
              "              style=\"display:none;\">\n",
              "        \n",
              "  <svg xmlns=\"http://www.w3.org/2000/svg\" height=\"24px\"viewBox=\"0 0 24 24\"\n",
              "       width=\"24px\">\n",
              "    <path d=\"M0 0h24v24H0V0z\" fill=\"none\"/>\n",
              "    <path d=\"M18.56 5.44l.94 2.06.94-2.06 2.06-.94-2.06-.94-.94-2.06-.94 2.06-2.06.94zm-11 1L8.5 8.5l.94-2.06 2.06-.94-2.06-.94L8.5 2.5l-.94 2.06-2.06.94zm10 10l.94 2.06.94-2.06 2.06-.94-2.06-.94-.94-2.06-.94 2.06-2.06.94z\"/><path d=\"M17.41 7.96l-1.37-1.37c-.4-.4-.92-.59-1.43-.59-.52 0-1.04.2-1.43.59L10.3 9.45l-7.72 7.72c-.78.78-.78 2.05 0 2.83L4 21.41c.39.39.9.59 1.41.59.51 0 1.02-.2 1.41-.59l7.78-7.78 2.81-2.81c.8-.78.8-2.07 0-2.86zM5.41 20L4 18.59l7.72-7.72 1.47 1.35L5.41 20z\"/>\n",
              "  </svg>\n",
              "      </button>\n",
              "      \n",
              "  <style>\n",
              "    .colab-df-container {\n",
              "      display:flex;\n",
              "      flex-wrap:wrap;\n",
              "      gap: 12px;\n",
              "    }\n",
              "\n",
              "    .colab-df-convert {\n",
              "      background-color: #E8F0FE;\n",
              "      border: none;\n",
              "      border-radius: 50%;\n",
              "      cursor: pointer;\n",
              "      display: none;\n",
              "      fill: #1967D2;\n",
              "      height: 32px;\n",
              "      padding: 0 0 0 0;\n",
              "      width: 32px;\n",
              "    }\n",
              "\n",
              "    .colab-df-convert:hover {\n",
              "      background-color: #E2EBFA;\n",
              "      box-shadow: 0px 1px 2px rgba(60, 64, 67, 0.3), 0px 1px 3px 1px rgba(60, 64, 67, 0.15);\n",
              "      fill: #174EA6;\n",
              "    }\n",
              "\n",
              "    [theme=dark] .colab-df-convert {\n",
              "      background-color: #3B4455;\n",
              "      fill: #D2E3FC;\n",
              "    }\n",
              "\n",
              "    [theme=dark] .colab-df-convert:hover {\n",
              "      background-color: #434B5C;\n",
              "      box-shadow: 0px 1px 3px 1px rgba(0, 0, 0, 0.15);\n",
              "      filter: drop-shadow(0px 1px 2px rgba(0, 0, 0, 0.3));\n",
              "      fill: #FFFFFF;\n",
              "    }\n",
              "  </style>\n",
              "\n",
              "      <script>\n",
              "        const buttonEl =\n",
              "          document.querySelector('#df-e85ccafc-06d5-493c-a7d3-68df9a066c57 button.colab-df-convert');\n",
              "        buttonEl.style.display =\n",
              "          google.colab.kernel.accessAllowed ? 'block' : 'none';\n",
              "\n",
              "        async function convertToInteractive(key) {\n",
              "          const element = document.querySelector('#df-e85ccafc-06d5-493c-a7d3-68df9a066c57');\n",
              "          const dataTable =\n",
              "            await google.colab.kernel.invokeFunction('convertToInteractive',\n",
              "                                                     [key], {});\n",
              "          if (!dataTable) return;\n",
              "\n",
              "          const docLinkHtml = 'Like what you see? Visit the ' +\n",
              "            '<a target=\"_blank\" href=https://colab.research.google.com/notebooks/data_table.ipynb>data table notebook</a>'\n",
              "            + ' to learn more about interactive tables.';\n",
              "          element.innerHTML = '';\n",
              "          dataTable['output_type'] = 'display_data';\n",
              "          await google.colab.output.renderOutput(dataTable, element);\n",
              "          const docLink = document.createElement('div');\n",
              "          docLink.innerHTML = docLinkHtml;\n",
              "          element.appendChild(docLink);\n",
              "        }\n",
              "      </script>\n",
              "    </div>\n",
              "  </div>\n",
              "  "
            ]
          },
          "metadata": {},
          "execution_count": 8
        }
      ]
    },
    {
      "cell_type": "markdown",
      "metadata": {
        "id": "N8MZ0njihEpK"
      },
      "source": [
        "## Cargar resto de tablas"
      ]
    },
    {
      "cell_type": "markdown",
      "source": [],
      "metadata": {
        "id": "eAbbLUswA9iG"
      }
    },
    {
      "cell_type": "markdown",
      "metadata": {
        "id": "BRvRZRLjh8OW"
      },
      "source": [
        "### account"
      ]
    },
    {
      "cell_type": "markdown",
      "source": [
        "1. Obtener el fichero de datos"
      ],
      "metadata": {
        "id": "LRzyikjmA7gX"
      }
    },
    {
      "cell_type": "code",
      "metadata": {
        "colab": {
          "base_uri": "https://localhost:8080/"
        },
        "id": "Xt0_52N0XWZN",
        "outputId": "34c054fd-c519-479c-f242-754b7d91f819"
      },
      "source": [
        "!wget https://raw.githubusercontent.com/zhouxu-ds/loan-default-prediction/main/data/account.asc"
      ],
      "execution_count": null,
      "outputs": [
        {
          "output_type": "stream",
          "name": "stdout",
          "text": [
            "--2022-11-09 15:30:59--  https://raw.githubusercontent.com/zhouxu-ds/loan-default-prediction/main/data/account.asc\n",
            "Resolving raw.githubusercontent.com (raw.githubusercontent.com)... 185.199.108.133, 185.199.109.133, 185.199.110.133, ...\n",
            "Connecting to raw.githubusercontent.com (raw.githubusercontent.com)|185.199.108.133|:443... connected.\n",
            "HTTP request sent, awaiting response... 200 OK\n",
            "Length: 155356 (152K) [text/plain]\n",
            "Saving to: ‘account.asc’\n",
            "\n",
            "\raccount.asc           0%[                    ]       0  --.-KB/s               \raccount.asc         100%[===================>] 151.71K  --.-KB/s    in 0.02s   \n",
            "\n",
            "2022-11-09 15:30:59 (6.56 MB/s) - ‘account.asc’ saved [155356/155356]\n",
            "\n"
          ]
        }
      ]
    },
    {
      "cell_type": "markdown",
      "source": [
        "2. Crear la tabla con CREATE"
      ],
      "metadata": {
        "id": "8yA2OKB7BCYH"
      }
    },
    {
      "cell_type": "markdown",
      "source": [
        "Le decimos que se cree la tabla, los account_id son numeros enteros, con date se referencia a una cadena de caracteres al igual que frecuency, despues tenemos la clave ajena que nod indica que se refiere a la tabla district que es la tabla A1"
      ],
      "metadata": {
        "id": "1XULOcjwAXXo"
      }
    },
    {
      "cell_type": "code",
      "metadata": {
        "id": "BulrT_wrhK_h"
      },
      "source": [
        "con.execute('CREATE TABLE IF NOT EXISTS ACCOUNT (account_id INT PRIMARY KEY, district_id INT, frequency TEXT, date INT, '\n",
        "      + 'FOREIGN KEY (district_id) REFERENCES district (A1))')\n",
        "con.commit()"
      ],
      "execution_count": null,
      "outputs": []
    },
    {
      "cell_type": "markdown",
      "source": [
        "3. Cargamos los datos en la tabla"
      ],
      "metadata": {
        "id": "5RK8EmkLBr9W"
      }
    },
    {
      "cell_type": "code",
      "metadata": {
        "id": "HXoB_uwOhjzl"
      },
      "source": [
        "pd.read_csv('account.asc', sep = \";\" ).to_sql('ACCOUNT', con, if_exists='append', index = False)\n"
      ],
      "execution_count": null,
      "outputs": []
    },
    {
      "cell_type": "markdown",
      "source": [
        "4. Comprobamos los datos"
      ],
      "metadata": {
        "id": "ESz2YPONBx7N"
      }
    },
    {
      "cell_type": "markdown",
      "source": [
        "Para reducir el número de datos mostrados se pone LIMIT"
      ],
      "metadata": {
        "id": "TDapEqXCBQYJ"
      }
    },
    {
      "cell_type": "code",
      "metadata": {
        "id": "q3_yIKhxhpQ9",
        "colab": {
          "base_uri": "https://localhost:8080/",
          "height": 363
        },
        "outputId": "aa5126ea-e676-407a-c148-6f06453e4b70"
      },
      "source": [
        "pd.read_sql_query(\"SELECT * FROM ACCOUNT LIMIT 10\", con)"
      ],
      "execution_count": null,
      "outputs": [
        {
          "output_type": "execute_result",
          "data": {
            "text/plain": [
              "   account_id  district_id           frequency    date\n",
              "0         576           55    POPLATEK MESICNE  930101\n",
              "1        3818           74    POPLATEK MESICNE  930101\n",
              "2         704           55    POPLATEK MESICNE  930101\n",
              "3        2378           16    POPLATEK MESICNE  930101\n",
              "4        2632           24    POPLATEK MESICNE  930102\n",
              "5        1972           77    POPLATEK MESICNE  930102\n",
              "6        1539            1  POPLATEK PO OBRATU  930103\n",
              "7         793           47    POPLATEK MESICNE  930103\n",
              "8        2484           74    POPLATEK MESICNE  930103\n",
              "9        1695           76    POPLATEK MESICNE  930103"
            ],
            "text/html": [
              "\n",
              "  <div id=\"df-b0259ba6-0b6b-444b-802c-6d7bafa3587d\">\n",
              "    <div class=\"colab-df-container\">\n",
              "      <div>\n",
              "<style scoped>\n",
              "    .dataframe tbody tr th:only-of-type {\n",
              "        vertical-align: middle;\n",
              "    }\n",
              "\n",
              "    .dataframe tbody tr th {\n",
              "        vertical-align: top;\n",
              "    }\n",
              "\n",
              "    .dataframe thead th {\n",
              "        text-align: right;\n",
              "    }\n",
              "</style>\n",
              "<table border=\"1\" class=\"dataframe\">\n",
              "  <thead>\n",
              "    <tr style=\"text-align: right;\">\n",
              "      <th></th>\n",
              "      <th>account_id</th>\n",
              "      <th>district_id</th>\n",
              "      <th>frequency</th>\n",
              "      <th>date</th>\n",
              "    </tr>\n",
              "  </thead>\n",
              "  <tbody>\n",
              "    <tr>\n",
              "      <th>0</th>\n",
              "      <td>576</td>\n",
              "      <td>55</td>\n",
              "      <td>POPLATEK MESICNE</td>\n",
              "      <td>930101</td>\n",
              "    </tr>\n",
              "    <tr>\n",
              "      <th>1</th>\n",
              "      <td>3818</td>\n",
              "      <td>74</td>\n",
              "      <td>POPLATEK MESICNE</td>\n",
              "      <td>930101</td>\n",
              "    </tr>\n",
              "    <tr>\n",
              "      <th>2</th>\n",
              "      <td>704</td>\n",
              "      <td>55</td>\n",
              "      <td>POPLATEK MESICNE</td>\n",
              "      <td>930101</td>\n",
              "    </tr>\n",
              "    <tr>\n",
              "      <th>3</th>\n",
              "      <td>2378</td>\n",
              "      <td>16</td>\n",
              "      <td>POPLATEK MESICNE</td>\n",
              "      <td>930101</td>\n",
              "    </tr>\n",
              "    <tr>\n",
              "      <th>4</th>\n",
              "      <td>2632</td>\n",
              "      <td>24</td>\n",
              "      <td>POPLATEK MESICNE</td>\n",
              "      <td>930102</td>\n",
              "    </tr>\n",
              "    <tr>\n",
              "      <th>5</th>\n",
              "      <td>1972</td>\n",
              "      <td>77</td>\n",
              "      <td>POPLATEK MESICNE</td>\n",
              "      <td>930102</td>\n",
              "    </tr>\n",
              "    <tr>\n",
              "      <th>6</th>\n",
              "      <td>1539</td>\n",
              "      <td>1</td>\n",
              "      <td>POPLATEK PO OBRATU</td>\n",
              "      <td>930103</td>\n",
              "    </tr>\n",
              "    <tr>\n",
              "      <th>7</th>\n",
              "      <td>793</td>\n",
              "      <td>47</td>\n",
              "      <td>POPLATEK MESICNE</td>\n",
              "      <td>930103</td>\n",
              "    </tr>\n",
              "    <tr>\n",
              "      <th>8</th>\n",
              "      <td>2484</td>\n",
              "      <td>74</td>\n",
              "      <td>POPLATEK MESICNE</td>\n",
              "      <td>930103</td>\n",
              "    </tr>\n",
              "    <tr>\n",
              "      <th>9</th>\n",
              "      <td>1695</td>\n",
              "      <td>76</td>\n",
              "      <td>POPLATEK MESICNE</td>\n",
              "      <td>930103</td>\n",
              "    </tr>\n",
              "  </tbody>\n",
              "</table>\n",
              "</div>\n",
              "      <button class=\"colab-df-convert\" onclick=\"convertToInteractive('df-b0259ba6-0b6b-444b-802c-6d7bafa3587d')\"\n",
              "              title=\"Convert this dataframe to an interactive table.\"\n",
              "              style=\"display:none;\">\n",
              "        \n",
              "  <svg xmlns=\"http://www.w3.org/2000/svg\" height=\"24px\"viewBox=\"0 0 24 24\"\n",
              "       width=\"24px\">\n",
              "    <path d=\"M0 0h24v24H0V0z\" fill=\"none\"/>\n",
              "    <path d=\"M18.56 5.44l.94 2.06.94-2.06 2.06-.94-2.06-.94-.94-2.06-.94 2.06-2.06.94zm-11 1L8.5 8.5l.94-2.06 2.06-.94-2.06-.94L8.5 2.5l-.94 2.06-2.06.94zm10 10l.94 2.06.94-2.06 2.06-.94-2.06-.94-.94-2.06-.94 2.06-2.06.94z\"/><path d=\"M17.41 7.96l-1.37-1.37c-.4-.4-.92-.59-1.43-.59-.52 0-1.04.2-1.43.59L10.3 9.45l-7.72 7.72c-.78.78-.78 2.05 0 2.83L4 21.41c.39.39.9.59 1.41.59.51 0 1.02-.2 1.41-.59l7.78-7.78 2.81-2.81c.8-.78.8-2.07 0-2.86zM5.41 20L4 18.59l7.72-7.72 1.47 1.35L5.41 20z\"/>\n",
              "  </svg>\n",
              "      </button>\n",
              "      \n",
              "  <style>\n",
              "    .colab-df-container {\n",
              "      display:flex;\n",
              "      flex-wrap:wrap;\n",
              "      gap: 12px;\n",
              "    }\n",
              "\n",
              "    .colab-df-convert {\n",
              "      background-color: #E8F0FE;\n",
              "      border: none;\n",
              "      border-radius: 50%;\n",
              "      cursor: pointer;\n",
              "      display: none;\n",
              "      fill: #1967D2;\n",
              "      height: 32px;\n",
              "      padding: 0 0 0 0;\n",
              "      width: 32px;\n",
              "    }\n",
              "\n",
              "    .colab-df-convert:hover {\n",
              "      background-color: #E2EBFA;\n",
              "      box-shadow: 0px 1px 2px rgba(60, 64, 67, 0.3), 0px 1px 3px 1px rgba(60, 64, 67, 0.15);\n",
              "      fill: #174EA6;\n",
              "    }\n",
              "\n",
              "    [theme=dark] .colab-df-convert {\n",
              "      background-color: #3B4455;\n",
              "      fill: #D2E3FC;\n",
              "    }\n",
              "\n",
              "    [theme=dark] .colab-df-convert:hover {\n",
              "      background-color: #434B5C;\n",
              "      box-shadow: 0px 1px 3px 1px rgba(0, 0, 0, 0.15);\n",
              "      filter: drop-shadow(0px 1px 2px rgba(0, 0, 0, 0.3));\n",
              "      fill: #FFFFFF;\n",
              "    }\n",
              "  </style>\n",
              "\n",
              "      <script>\n",
              "        const buttonEl =\n",
              "          document.querySelector('#df-b0259ba6-0b6b-444b-802c-6d7bafa3587d button.colab-df-convert');\n",
              "        buttonEl.style.display =\n",
              "          google.colab.kernel.accessAllowed ? 'block' : 'none';\n",
              "\n",
              "        async function convertToInteractive(key) {\n",
              "          const element = document.querySelector('#df-b0259ba6-0b6b-444b-802c-6d7bafa3587d');\n",
              "          const dataTable =\n",
              "            await google.colab.kernel.invokeFunction('convertToInteractive',\n",
              "                                                     [key], {});\n",
              "          if (!dataTable) return;\n",
              "\n",
              "          const docLinkHtml = 'Like what you see? Visit the ' +\n",
              "            '<a target=\"_blank\" href=https://colab.research.google.com/notebooks/data_table.ipynb>data table notebook</a>'\n",
              "            + ' to learn more about interactive tables.';\n",
              "          element.innerHTML = '';\n",
              "          dataTable['output_type'] = 'display_data';\n",
              "          await google.colab.output.renderOutput(dataTable, element);\n",
              "          const docLink = document.createElement('div');\n",
              "          docLink.innerHTML = docLinkHtml;\n",
              "          element.appendChild(docLink);\n",
              "        }\n",
              "      </script>\n",
              "    </div>\n",
              "  </div>\n",
              "  "
            ]
          },
          "metadata": {},
          "execution_count": 13
        }
      ]
    },
    {
      "cell_type": "markdown",
      "metadata": {
        "id": "xQzb0A29M6ZG"
      },
      "source": [
        "#### Manipulamos estos datos\n"
      ]
    },
    {
      "cell_type": "markdown",
      "metadata": {
        "id": "D0xI2Zx0VL_f"
      },
      "source": [
        "Vamos a utilizar la sentencia UPDATE para traducir del checo al inglés"
      ]
    },
    {
      "cell_type": "code",
      "metadata": {
        "id": "teMh8NCPva54"
      },
      "source": [
        "con.execute(\"UPDATE ACCOUNT SET frequency = 'monthly' WHERE frequency = 'POPLATEK MESICNE'\")\n",
        "con.execute(\"UPDATE ACCOUNT SET frequency = 'weekly' WHERE frequency = 'POPLATEK TYDNE'\")\n",
        "con.execute(\"UPDATE ACCOUNT SET frequency = 'after_tr' WHERE frequency = 'POPLATEK PO OBRATU'\")\n",
        "con.commit()"
      ],
      "execution_count": null,
      "outputs": []
    },
    {
      "cell_type": "code",
      "metadata": {
        "id": "w2DmyuPSVJ6l",
        "colab": {
          "base_uri": "https://localhost:8080/",
          "height": 363
        },
        "outputId": "4d4badc7-0149-43e4-8b2b-4f749989a0d5"
      },
      "source": [
        "pd.read_sql_query(\"SELECT * FROM ACCOUNT LIMIT 10\", con)"
      ],
      "execution_count": null,
      "outputs": [
        {
          "output_type": "execute_result",
          "data": {
            "text/html": [
              "\n",
              "  <div id=\"df-237063c9-d4a8-4096-ada6-d0dfae6d0097\">\n",
              "    <div class=\"colab-df-container\">\n",
              "      <div>\n",
              "<style scoped>\n",
              "    .dataframe tbody tr th:only-of-type {\n",
              "        vertical-align: middle;\n",
              "    }\n",
              "\n",
              "    .dataframe tbody tr th {\n",
              "        vertical-align: top;\n",
              "    }\n",
              "\n",
              "    .dataframe thead th {\n",
              "        text-align: right;\n",
              "    }\n",
              "</style>\n",
              "<table border=\"1\" class=\"dataframe\">\n",
              "  <thead>\n",
              "    <tr style=\"text-align: right;\">\n",
              "      <th></th>\n",
              "      <th>account_id</th>\n",
              "      <th>district_id</th>\n",
              "      <th>frequency</th>\n",
              "      <th>date</th>\n",
              "    </tr>\n",
              "  </thead>\n",
              "  <tbody>\n",
              "    <tr>\n",
              "      <th>0</th>\n",
              "      <td>576</td>\n",
              "      <td>55</td>\n",
              "      <td>monthly</td>\n",
              "      <td>930101</td>\n",
              "    </tr>\n",
              "    <tr>\n",
              "      <th>1</th>\n",
              "      <td>3818</td>\n",
              "      <td>74</td>\n",
              "      <td>monthly</td>\n",
              "      <td>930101</td>\n",
              "    </tr>\n",
              "    <tr>\n",
              "      <th>2</th>\n",
              "      <td>704</td>\n",
              "      <td>55</td>\n",
              "      <td>monthly</td>\n",
              "      <td>930101</td>\n",
              "    </tr>\n",
              "    <tr>\n",
              "      <th>3</th>\n",
              "      <td>2378</td>\n",
              "      <td>16</td>\n",
              "      <td>monthly</td>\n",
              "      <td>930101</td>\n",
              "    </tr>\n",
              "    <tr>\n",
              "      <th>4</th>\n",
              "      <td>2632</td>\n",
              "      <td>24</td>\n",
              "      <td>monthly</td>\n",
              "      <td>930102</td>\n",
              "    </tr>\n",
              "    <tr>\n",
              "      <th>5</th>\n",
              "      <td>1972</td>\n",
              "      <td>77</td>\n",
              "      <td>monthly</td>\n",
              "      <td>930102</td>\n",
              "    </tr>\n",
              "    <tr>\n",
              "      <th>6</th>\n",
              "      <td>1539</td>\n",
              "      <td>1</td>\n",
              "      <td>after_tr</td>\n",
              "      <td>930103</td>\n",
              "    </tr>\n",
              "    <tr>\n",
              "      <th>7</th>\n",
              "      <td>793</td>\n",
              "      <td>47</td>\n",
              "      <td>monthly</td>\n",
              "      <td>930103</td>\n",
              "    </tr>\n",
              "    <tr>\n",
              "      <th>8</th>\n",
              "      <td>2484</td>\n",
              "      <td>74</td>\n",
              "      <td>monthly</td>\n",
              "      <td>930103</td>\n",
              "    </tr>\n",
              "    <tr>\n",
              "      <th>9</th>\n",
              "      <td>1695</td>\n",
              "      <td>76</td>\n",
              "      <td>monthly</td>\n",
              "      <td>930103</td>\n",
              "    </tr>\n",
              "  </tbody>\n",
              "</table>\n",
              "</div>\n",
              "      <button class=\"colab-df-convert\" onclick=\"convertToInteractive('df-237063c9-d4a8-4096-ada6-d0dfae6d0097')\"\n",
              "              title=\"Convert this dataframe to an interactive table.\"\n",
              "              style=\"display:none;\">\n",
              "        \n",
              "  <svg xmlns=\"http://www.w3.org/2000/svg\" height=\"24px\"viewBox=\"0 0 24 24\"\n",
              "       width=\"24px\">\n",
              "    <path d=\"M0 0h24v24H0V0z\" fill=\"none\"/>\n",
              "    <path d=\"M18.56 5.44l.94 2.06.94-2.06 2.06-.94-2.06-.94-.94-2.06-.94 2.06-2.06.94zm-11 1L8.5 8.5l.94-2.06 2.06-.94-2.06-.94L8.5 2.5l-.94 2.06-2.06.94zm10 10l.94 2.06.94-2.06 2.06-.94-2.06-.94-.94-2.06-.94 2.06-2.06.94z\"/><path d=\"M17.41 7.96l-1.37-1.37c-.4-.4-.92-.59-1.43-.59-.52 0-1.04.2-1.43.59L10.3 9.45l-7.72 7.72c-.78.78-.78 2.05 0 2.83L4 21.41c.39.39.9.59 1.41.59.51 0 1.02-.2 1.41-.59l7.78-7.78 2.81-2.81c.8-.78.8-2.07 0-2.86zM5.41 20L4 18.59l7.72-7.72 1.47 1.35L5.41 20z\"/>\n",
              "  </svg>\n",
              "      </button>\n",
              "      \n",
              "  <style>\n",
              "    .colab-df-container {\n",
              "      display:flex;\n",
              "      flex-wrap:wrap;\n",
              "      gap: 12px;\n",
              "    }\n",
              "\n",
              "    .colab-df-convert {\n",
              "      background-color: #E8F0FE;\n",
              "      border: none;\n",
              "      border-radius: 50%;\n",
              "      cursor: pointer;\n",
              "      display: none;\n",
              "      fill: #1967D2;\n",
              "      height: 32px;\n",
              "      padding: 0 0 0 0;\n",
              "      width: 32px;\n",
              "    }\n",
              "\n",
              "    .colab-df-convert:hover {\n",
              "      background-color: #E2EBFA;\n",
              "      box-shadow: 0px 1px 2px rgba(60, 64, 67, 0.3), 0px 1px 3px 1px rgba(60, 64, 67, 0.15);\n",
              "      fill: #174EA6;\n",
              "    }\n",
              "\n",
              "    [theme=dark] .colab-df-convert {\n",
              "      background-color: #3B4455;\n",
              "      fill: #D2E3FC;\n",
              "    }\n",
              "\n",
              "    [theme=dark] .colab-df-convert:hover {\n",
              "      background-color: #434B5C;\n",
              "      box-shadow: 0px 1px 3px 1px rgba(0, 0, 0, 0.15);\n",
              "      filter: drop-shadow(0px 1px 2px rgba(0, 0, 0, 0.3));\n",
              "      fill: #FFFFFF;\n",
              "    }\n",
              "  </style>\n",
              "\n",
              "      <script>\n",
              "        const buttonEl =\n",
              "          document.querySelector('#df-237063c9-d4a8-4096-ada6-d0dfae6d0097 button.colab-df-convert');\n",
              "        buttonEl.style.display =\n",
              "          google.colab.kernel.accessAllowed ? 'block' : 'none';\n",
              "\n",
              "        async function convertToInteractive(key) {\n",
              "          const element = document.querySelector('#df-237063c9-d4a8-4096-ada6-d0dfae6d0097');\n",
              "          const dataTable =\n",
              "            await google.colab.kernel.invokeFunction('convertToInteractive',\n",
              "                                                     [key], {});\n",
              "          if (!dataTable) return;\n",
              "\n",
              "          const docLinkHtml = 'Like what you see? Visit the ' +\n",
              "            '<a target=\"_blank\" href=https://colab.research.google.com/notebooks/data_table.ipynb>data table notebook</a>'\n",
              "            + ' to learn more about interactive tables.';\n",
              "          element.innerHTML = '';\n",
              "          dataTable['output_type'] = 'display_data';\n",
              "          await google.colab.output.renderOutput(dataTable, element);\n",
              "          const docLink = document.createElement('div');\n",
              "          docLink.innerHTML = docLinkHtml;\n",
              "          element.appendChild(docLink);\n",
              "        }\n",
              "      </script>\n",
              "    </div>\n",
              "  </div>\n",
              "  "
            ],
            "text/plain": [
              "   account_id  district_id frequency    date\n",
              "0         576           55   monthly  930101\n",
              "1        3818           74   monthly  930101\n",
              "2         704           55   monthly  930101\n",
              "3        2378           16   monthly  930101\n",
              "4        2632           24   monthly  930102\n",
              "5        1972           77   monthly  930102\n",
              "6        1539            1  after_tr  930103\n",
              "7         793           47   monthly  930103\n",
              "8        2484           74   monthly  930103\n",
              "9        1695           76   monthly  930103"
            ]
          },
          "metadata": {},
          "execution_count": 15
        }
      ]
    },
    {
      "cell_type": "markdown",
      "metadata": {
        "id": "JtUf3jDbjIWz"
      },
      "source": [
        "### client"
      ]
    },
    {
      "cell_type": "markdown",
      "source": [
        "1. Descarga de los datos"
      ],
      "metadata": {
        "id": "H2hN9AHUmHzE"
      }
    },
    {
      "cell_type": "code",
      "metadata": {
        "colab": {
          "base_uri": "https://localhost:8080/"
        },
        "id": "GMACKtaVXg3t",
        "outputId": "d9ca1d1f-b442-4273-8cbd-a21a775a156a"
      },
      "source": [
        "!wget https://raw.githubusercontent.com/zhouxu-ds/loan-default-prediction/main/data/client.asc"
      ],
      "execution_count": null,
      "outputs": [
        {
          "output_type": "stream",
          "name": "stdout",
          "text": [
            "--2021-12-21 10:34:05--  https://raw.githubusercontent.com/zhouxu-ds/loan-default-prediction/main/data/client.asc\n",
            "Resolving raw.githubusercontent.com (raw.githubusercontent.com)... 185.199.108.133, 185.199.109.133, 185.199.110.133, ...\n",
            "Connecting to raw.githubusercontent.com (raw.githubusercontent.com)|185.199.108.133|:443... connected.\n",
            "HTTP request sent, awaiting response... 200 OK\n",
            "Length: 94820 (93K) [text/plain]\n",
            "Saving to: ‘client.asc’\n",
            "\n",
            "\rclient.asc            0%[                    ]       0  --.-KB/s               \rclient.asc          100%[===================>]  92.60K  --.-KB/s    in 0.002s  \n",
            "\n",
            "2021-12-21 10:34:06 (47.5 MB/s) - ‘client.asc’ saved [94820/94820]\n",
            "\n"
          ]
        }
      ]
    },
    {
      "cell_type": "markdown",
      "source": [
        "2. Creación de la tabla"
      ],
      "metadata": {
        "id": "7tHwqblamWCo"
      }
    },
    {
      "cell_type": "code",
      "metadata": {
        "id": "tCT2jLiPjLIE"
      },
      "source": [
        "con.execute(\"CREATE TABLE IF NOT EXISTS CLIENT (client_id INT PRIMARY KEY,birth_number varchar,\tdistrict_id INT, \"\n",
        "            + \"FOREIGN KEY (district_id) REFERENCES district (A1))\");\n",
        "con.commit()\n"
      ],
      "execution_count": null,
      "outputs": []
    },
    {
      "cell_type": "markdown",
      "source": [
        "Se crea la tabla CLIENT"
      ],
      "metadata": {
        "id": "kHL4C1MQBmt2"
      }
    },
    {
      "cell_type": "markdown",
      "source": [
        "3. Carga de los datos a la tabla"
      ],
      "metadata": {
        "id": "IVtQkfzBmavM"
      }
    },
    {
      "cell_type": "code",
      "metadata": {
        "id": "xskZQaPLy1bl"
      },
      "source": [
        "pd.read_csv('client.asc', sep = \";\" ).to_sql('CLIENT', con, if_exists='append', index = False)"
      ],
      "execution_count": null,
      "outputs": []
    },
    {
      "cell_type": "markdown",
      "source": [
        "Se introducen los datos a la tabla creada en el paso anterior"
      ],
      "metadata": {
        "id": "AyNZ3oWwB1fX"
      }
    },
    {
      "cell_type": "markdown",
      "source": [
        "4. Comprobar que la creación y la carga se ha hecho bien"
      ],
      "metadata": {
        "id": "UkFk_RdimkRN"
      }
    },
    {
      "cell_type": "code",
      "metadata": {
        "id": "UNvMo6MkzPJ4",
        "colab": {
          "base_uri": "https://localhost:8080/",
          "height": 363
        },
        "outputId": "e1152fc3-8067-4891-f8e5-73bab5d27260"
      },
      "source": [
        "pd.read_sql_query(\"SELECT * FROM CLIENT LIMIT 10\", con)"
      ],
      "execution_count": null,
      "outputs": [
        {
          "output_type": "execute_result",
          "data": {
            "text/html": [
              "\n",
              "  <div id=\"df-5f69ebfb-78f5-4cbb-9cd9-bc5d677f5305\">\n",
              "    <div class=\"colab-df-container\">\n",
              "      <div>\n",
              "<style scoped>\n",
              "    .dataframe tbody tr th:only-of-type {\n",
              "        vertical-align: middle;\n",
              "    }\n",
              "\n",
              "    .dataframe tbody tr th {\n",
              "        vertical-align: top;\n",
              "    }\n",
              "\n",
              "    .dataframe thead th {\n",
              "        text-align: right;\n",
              "    }\n",
              "</style>\n",
              "<table border=\"1\" class=\"dataframe\">\n",
              "  <thead>\n",
              "    <tr style=\"text-align: right;\">\n",
              "      <th></th>\n",
              "      <th>client_id</th>\n",
              "      <th>birth_number</th>\n",
              "      <th>district_id</th>\n",
              "    </tr>\n",
              "  </thead>\n",
              "  <tbody>\n",
              "    <tr>\n",
              "      <th>0</th>\n",
              "      <td>1</td>\n",
              "      <td>706213</td>\n",
              "      <td>18</td>\n",
              "    </tr>\n",
              "    <tr>\n",
              "      <th>1</th>\n",
              "      <td>2</td>\n",
              "      <td>450204</td>\n",
              "      <td>1</td>\n",
              "    </tr>\n",
              "    <tr>\n",
              "      <th>2</th>\n",
              "      <td>3</td>\n",
              "      <td>406009</td>\n",
              "      <td>1</td>\n",
              "    </tr>\n",
              "    <tr>\n",
              "      <th>3</th>\n",
              "      <td>4</td>\n",
              "      <td>561201</td>\n",
              "      <td>5</td>\n",
              "    </tr>\n",
              "    <tr>\n",
              "      <th>4</th>\n",
              "      <td>5</td>\n",
              "      <td>605703</td>\n",
              "      <td>5</td>\n",
              "    </tr>\n",
              "    <tr>\n",
              "      <th>5</th>\n",
              "      <td>6</td>\n",
              "      <td>190922</td>\n",
              "      <td>12</td>\n",
              "    </tr>\n",
              "    <tr>\n",
              "      <th>6</th>\n",
              "      <td>7</td>\n",
              "      <td>290125</td>\n",
              "      <td>15</td>\n",
              "    </tr>\n",
              "    <tr>\n",
              "      <th>7</th>\n",
              "      <td>8</td>\n",
              "      <td>385221</td>\n",
              "      <td>51</td>\n",
              "    </tr>\n",
              "    <tr>\n",
              "      <th>8</th>\n",
              "      <td>9</td>\n",
              "      <td>351016</td>\n",
              "      <td>60</td>\n",
              "    </tr>\n",
              "    <tr>\n",
              "      <th>9</th>\n",
              "      <td>10</td>\n",
              "      <td>430501</td>\n",
              "      <td>57</td>\n",
              "    </tr>\n",
              "  </tbody>\n",
              "</table>\n",
              "</div>\n",
              "      <button class=\"colab-df-convert\" onclick=\"convertToInteractive('df-5f69ebfb-78f5-4cbb-9cd9-bc5d677f5305')\"\n",
              "              title=\"Convert this dataframe to an interactive table.\"\n",
              "              style=\"display:none;\">\n",
              "        \n",
              "  <svg xmlns=\"http://www.w3.org/2000/svg\" height=\"24px\"viewBox=\"0 0 24 24\"\n",
              "       width=\"24px\">\n",
              "    <path d=\"M0 0h24v24H0V0z\" fill=\"none\"/>\n",
              "    <path d=\"M18.56 5.44l.94 2.06.94-2.06 2.06-.94-2.06-.94-.94-2.06-.94 2.06-2.06.94zm-11 1L8.5 8.5l.94-2.06 2.06-.94-2.06-.94L8.5 2.5l-.94 2.06-2.06.94zm10 10l.94 2.06.94-2.06 2.06-.94-2.06-.94-.94-2.06-.94 2.06-2.06.94z\"/><path d=\"M17.41 7.96l-1.37-1.37c-.4-.4-.92-.59-1.43-.59-.52 0-1.04.2-1.43.59L10.3 9.45l-7.72 7.72c-.78.78-.78 2.05 0 2.83L4 21.41c.39.39.9.59 1.41.59.51 0 1.02-.2 1.41-.59l7.78-7.78 2.81-2.81c.8-.78.8-2.07 0-2.86zM5.41 20L4 18.59l7.72-7.72 1.47 1.35L5.41 20z\"/>\n",
              "  </svg>\n",
              "      </button>\n",
              "      \n",
              "  <style>\n",
              "    .colab-df-container {\n",
              "      display:flex;\n",
              "      flex-wrap:wrap;\n",
              "      gap: 12px;\n",
              "    }\n",
              "\n",
              "    .colab-df-convert {\n",
              "      background-color: #E8F0FE;\n",
              "      border: none;\n",
              "      border-radius: 50%;\n",
              "      cursor: pointer;\n",
              "      display: none;\n",
              "      fill: #1967D2;\n",
              "      height: 32px;\n",
              "      padding: 0 0 0 0;\n",
              "      width: 32px;\n",
              "    }\n",
              "\n",
              "    .colab-df-convert:hover {\n",
              "      background-color: #E2EBFA;\n",
              "      box-shadow: 0px 1px 2px rgba(60, 64, 67, 0.3), 0px 1px 3px 1px rgba(60, 64, 67, 0.15);\n",
              "      fill: #174EA6;\n",
              "    }\n",
              "\n",
              "    [theme=dark] .colab-df-convert {\n",
              "      background-color: #3B4455;\n",
              "      fill: #D2E3FC;\n",
              "    }\n",
              "\n",
              "    [theme=dark] .colab-df-convert:hover {\n",
              "      background-color: #434B5C;\n",
              "      box-shadow: 0px 1px 3px 1px rgba(0, 0, 0, 0.15);\n",
              "      filter: drop-shadow(0px 1px 2px rgba(0, 0, 0, 0.3));\n",
              "      fill: #FFFFFF;\n",
              "    }\n",
              "  </style>\n",
              "\n",
              "      <script>\n",
              "        const buttonEl =\n",
              "          document.querySelector('#df-5f69ebfb-78f5-4cbb-9cd9-bc5d677f5305 button.colab-df-convert');\n",
              "        buttonEl.style.display =\n",
              "          google.colab.kernel.accessAllowed ? 'block' : 'none';\n",
              "\n",
              "        async function convertToInteractive(key) {\n",
              "          const element = document.querySelector('#df-5f69ebfb-78f5-4cbb-9cd9-bc5d677f5305');\n",
              "          const dataTable =\n",
              "            await google.colab.kernel.invokeFunction('convertToInteractive',\n",
              "                                                     [key], {});\n",
              "          if (!dataTable) return;\n",
              "\n",
              "          const docLinkHtml = 'Like what you see? Visit the ' +\n",
              "            '<a target=\"_blank\" href=https://colab.research.google.com/notebooks/data_table.ipynb>data table notebook</a>'\n",
              "            + ' to learn more about interactive tables.';\n",
              "          element.innerHTML = '';\n",
              "          dataTable['output_type'] = 'display_data';\n",
              "          await google.colab.output.renderOutput(dataTable, element);\n",
              "          const docLink = document.createElement('div');\n",
              "          docLink.innerHTML = docLinkHtml;\n",
              "          element.appendChild(docLink);\n",
              "        }\n",
              "      </script>\n",
              "    </div>\n",
              "  </div>\n",
              "  "
            ],
            "text/plain": [
              "   client_id  birth_number  district_id\n",
              "0          1        706213           18\n",
              "1          2        450204            1\n",
              "2          3        406009            1\n",
              "3          4        561201            5\n",
              "4          5        605703            5\n",
              "5          6        190922           12\n",
              "6          7        290125           15\n",
              "7          8        385221           51\n",
              "8          9        351016           60\n",
              "9         10        430501           57"
            ]
          },
          "metadata": {},
          "execution_count": 24
        }
      ]
    },
    {
      "cell_type": "markdown",
      "source": [
        "5. Código para borrado después de un diseño incorrecto"
      ],
      "metadata": {
        "id": "I2QzYCsumddU"
      }
    },
    {
      "cell_type": "code",
      "metadata": {
        "id": "7gIU4U_KtoZA"
      },
      "source": [
        "con.execute(\"DROP TABLE CLIENT\");\n",
        "con.commit()"
      ],
      "execution_count": null,
      "outputs": []
    },
    {
      "cell_type": "markdown",
      "metadata": {
        "id": "fBzCrClAr6dx"
      },
      "source": [
        "### loan\n"
      ]
    },
    {
      "cell_type": "markdown",
      "source": [
        "Dentro de la tabla encontramos: 7 columnas 2 variables de texto y 5 de números"
      ],
      "metadata": {
        "id": "Wgeu3gOqCHDx"
      }
    },
    {
      "cell_type": "markdown",
      "source": [
        "1. Descarga de los datos"
      ],
      "metadata": {
        "id": "iJcOljJk3q2x"
      }
    },
    {
      "cell_type": "code",
      "source": [
        "!wget https://raw.githubusercontent.com/zhouxu-ds/loan-default-prediction/main/data/loan.asc"
      ],
      "metadata": {
        "id": "SOxC_law3Nzt",
        "colab": {
          "base_uri": "https://localhost:8080/"
        },
        "outputId": "87a4666e-405c-41a5-fc1a-3abf12c1926d"
      },
      "execution_count": null,
      "outputs": [
        {
          "output_type": "stream",
          "name": "stdout",
          "text": [
            "--2022-11-09 15:39:16--  https://raw.githubusercontent.com/zhouxu-ds/loan-default-prediction/main/data/loan.asc\n",
            "Resolving raw.githubusercontent.com (raw.githubusercontent.com)... 185.199.108.133, 185.199.109.133, 185.199.110.133, ...\n",
            "Connecting to raw.githubusercontent.com (raw.githubusercontent.com)|185.199.108.133|:443... connected.\n",
            "HTTP request sent, awaiting response... 200 OK\n",
            "Length: 27037 (26K) [text/plain]\n",
            "Saving to: ‘loan.asc’\n",
            "\n",
            "\rloan.asc              0%[                    ]       0  --.-KB/s               \rloan.asc            100%[===================>]  26.40K  --.-KB/s    in 0.003s  \n",
            "\n",
            "2022-11-09 15:39:16 (9.32 MB/s) - ‘loan.asc’ saved [27037/27037]\n",
            "\n"
          ]
        }
      ]
    },
    {
      "cell_type": "markdown",
      "source": [
        "2. Creación de la tabla\n"
      ],
      "metadata": {
        "id": "LJ4f0IVF3q2y"
      }
    },
    {
      "cell_type": "code",
      "source": [
        "con.execute(\"CREATE TABLE LOAN (loan_id INT PRIMARY KEY, account_id INT, date INT, amount INT, \"\n",
        "             + \" duration INT, payments REAL, status TEXT, \"\n",
        "             + \"FOREIGN KEY (account_id) REFERENCES ACCOUNT (account_id) )\")\n",
        "con.commit()"
      ],
      "metadata": {
        "id": "4lqIXCGLDCGG"
      },
      "execution_count": null,
      "outputs": []
    },
    {
      "cell_type": "markdown",
      "source": [
        "3. Carga de los datos a la tabla\n"
      ],
      "metadata": {
        "id": "nW3tTy3N3q2z"
      }
    },
    {
      "cell_type": "code",
      "source": [
        "pd.read_csv('loan.asc', sep = \";\" ).to_sql('LOAN', con, if_exists='append', index = False)"
      ],
      "metadata": {
        "id": "JaXkIhuRGTGF"
      },
      "execution_count": null,
      "outputs": []
    },
    {
      "cell_type": "markdown",
      "source": [
        "4. Comprobar tabla"
      ],
      "metadata": {
        "id": "L42rMP453q2z"
      }
    },
    {
      "cell_type": "code",
      "source": [
        "pd.read_sql_query(\"SELECT * FROM LOAN LIMIT 10\", con)"
      ],
      "metadata": {
        "id": "bV-HbKq6GdzN"
      },
      "execution_count": null,
      "outputs": []
    },
    {
      "cell_type": "markdown",
      "metadata": {
        "id": "icvsgllbqmyJ"
      },
      "source": [
        "### credit card"
      ]
    },
    {
      "cell_type": "markdown",
      "source": [
        "1. Obtener los datos "
      ],
      "metadata": {
        "id": "MWrI_MabLTCm"
      }
    },
    {
      "cell_type": "code",
      "source": [
        "!wget https://raw.githubusercontent.com/zhouxu-ds/loan-default-prediction/main/data/card.asc"
      ],
      "metadata": {
        "id": "gYo9F-x0FJoK",
        "colab": {
          "base_uri": "https://localhost:8080/"
        },
        "outputId": "047e0475-57f4-4f3c-d650-8c214f9dace9"
      },
      "execution_count": null,
      "outputs": [
        {
          "output_type": "stream",
          "name": "stdout",
          "text": [
            "--2022-11-30 09:41:50--  https://raw.githubusercontent.com/zhouxu-ds/loan-default-prediction/main/data/card.asc\n",
            "Resolving raw.githubusercontent.com (raw.githubusercontent.com)... 185.199.108.133, 185.199.109.133, 185.199.110.133, ...\n",
            "Connecting to raw.githubusercontent.com (raw.githubusercontent.com)|185.199.108.133|:443... connected.\n",
            "HTTP request sent, awaiting response... 200 OK\n",
            "Length: 31588 (31K) [text/plain]\n",
            "Saving to: ‘card.asc’\n",
            "\n",
            "card.asc            100%[===================>]  30.85K  --.-KB/s    in 0.002s  \n",
            "\n",
            "2022-11-30 09:41:50 (13.4 MB/s) - ‘card.asc’ saved [31588/31588]\n",
            "\n"
          ]
        }
      ]
    },
    {
      "cell_type": "markdown",
      "source": [
        "2. Ejecutar el CREATE"
      ],
      "metadata": {
        "id": "2Lxt1SxdLU0m"
      }
    },
    {
      "cell_type": "code",
      "source": [
        "con.execute(\"CREATE TABLE CREDIT_CARD (card_id INT PRIMARY KEY,disp_id INT,\ttype TEXT,\tissued varchar,\"\n",
        "  + \"FOREIGN KEY (disp_id) REFERENCES DISPOSITION (disp_id))\");\n",
        "con.commit()"
      ],
      "metadata": {
        "colab": {
          "base_uri": "https://localhost:8080/",
          "height": 218
        },
        "id": "huiOrbJX6dVp",
        "outputId": "0fceca99-5c09-432f-f366-5356293f6add"
      },
      "execution_count": null,
      "outputs": [
        {
          "output_type": "error",
          "ename": "NameError",
          "evalue": "ignored",
          "traceback": [
            "\u001b[0;31m---------------------------------------------------------------------------\u001b[0m",
            "\u001b[0;31mNameError\u001b[0m                                 Traceback (most recent call last)",
            "\u001b[0;32m<ipython-input-5-0180488d9d29>\u001b[0m in \u001b[0;36m<module>\u001b[0;34m\u001b[0m\n\u001b[0;32m----> 1\u001b[0;31m con.execute(\"CREATE TABLE CREDIT_CARD (card_id INT PRIMARY KEY,disp_id INT,\ttype TEXT,\tissued varchar,\"\n\u001b[0m\u001b[1;32m      2\u001b[0m   + \"FOREIGN KEY (disp_id) REFERENCES DISPOSITION (disp_id))\");\n\u001b[1;32m      3\u001b[0m \u001b[0mcon\u001b[0m\u001b[0;34m.\u001b[0m\u001b[0mcommit\u001b[0m\u001b[0;34m(\u001b[0m\u001b[0;34m)\u001b[0m\u001b[0;34m\u001b[0m\u001b[0;34m\u001b[0m\u001b[0m\n",
            "\u001b[0;31mNameError\u001b[0m: name 'con' is not defined"
          ]
        }
      ]
    },
    {
      "cell_type": "markdown",
      "source": [
        "3. Cargar los datos"
      ],
      "metadata": {
        "id": "lpa2rp0jLYRk"
      }
    },
    {
      "cell_type": "code",
      "source": [
        "pd.read_csv('card.asc', sep = \";\" ).to_sql('CREDIT_CARD', con, if_exists='append', index = False)"
      ],
      "metadata": {
        "colab": {
          "base_uri": "https://localhost:8080/",
          "height": 166
        },
        "id": "833x5Xnx6s-m",
        "outputId": "4f402d96-abc0-41b0-c45f-509b9281ad8f"
      },
      "execution_count": null,
      "outputs": [
        {
          "output_type": "error",
          "ename": "NameError",
          "evalue": "ignored",
          "traceback": [
            "\u001b[0;31m---------------------------------------------------------------------------\u001b[0m",
            "\u001b[0;31mNameError\u001b[0m                                 Traceback (most recent call last)",
            "\u001b[0;32m<ipython-input-4-badd41d4c428>\u001b[0m in \u001b[0;36m<module>\u001b[0;34m\u001b[0m\n\u001b[0;32m----> 1\u001b[0;31m \u001b[0mpd\u001b[0m\u001b[0;34m.\u001b[0m\u001b[0mread_csv\u001b[0m\u001b[0;34m(\u001b[0m\u001b[0;34m'card.asc'\u001b[0m\u001b[0;34m,\u001b[0m \u001b[0msep\u001b[0m \u001b[0;34m=\u001b[0m \u001b[0;34m\";\"\u001b[0m \u001b[0;34m)\u001b[0m\u001b[0;34m.\u001b[0m\u001b[0mto_sql\u001b[0m\u001b[0;34m(\u001b[0m\u001b[0;34m'CREDIT_CARD'\u001b[0m\u001b[0;34m,\u001b[0m \u001b[0mcon\u001b[0m\u001b[0;34m,\u001b[0m \u001b[0mif_exists\u001b[0m\u001b[0;34m=\u001b[0m\u001b[0;34m'append'\u001b[0m\u001b[0;34m,\u001b[0m \u001b[0mindex\u001b[0m \u001b[0;34m=\u001b[0m \u001b[0;32mFalse\u001b[0m\u001b[0;34m)\u001b[0m\u001b[0;34m\u001b[0m\u001b[0;34m\u001b[0m\u001b[0m\n\u001b[0m",
            "\u001b[0;31mNameError\u001b[0m: name 'pd' is not defined"
          ]
        }
      ]
    },
    {
      "cell_type": "markdown",
      "source": [
        "4. Comprobar la creación y la carga\n"
      ],
      "metadata": {
        "id": "JeuT8mvKLk4s"
      }
    },
    {
      "cell_type": "code",
      "source": [
        "pd.read_sql_query('SELECT * FROM CREDIT_CARD LIMIT 8', con)"
      ],
      "metadata": {
        "colab": {
          "base_uri": "https://localhost:8080/",
          "height": 166
        },
        "id": "0PPxZRAF7UUV",
        "outputId": "38fbecdd-7f72-444a-b851-25e66be0a997"
      },
      "execution_count": null,
      "outputs": [
        {
          "output_type": "error",
          "ename": "NameError",
          "evalue": "ignored",
          "traceback": [
            "\u001b[0;31m---------------------------------------------------------------------------\u001b[0m",
            "\u001b[0;31mNameError\u001b[0m                                 Traceback (most recent call last)",
            "\u001b[0;32m<ipython-input-6-d63c2eb67e80>\u001b[0m in \u001b[0;36m<module>\u001b[0;34m\u001b[0m\n\u001b[0;32m----> 1\u001b[0;31m \u001b[0mpd\u001b[0m\u001b[0;34m.\u001b[0m\u001b[0mread_sql_query\u001b[0m\u001b[0;34m(\u001b[0m\u001b[0;34m'SELECT * FROM CREDIT_CARD LIMIT 10'\u001b[0m\u001b[0;34m,\u001b[0m \u001b[0mcon\u001b[0m\u001b[0;34m)\u001b[0m\u001b[0;34m\u001b[0m\u001b[0;34m\u001b[0m\u001b[0m\n\u001b[0m",
            "\u001b[0;31mNameError\u001b[0m: name 'pd' is not defined"
          ]
        }
      ]
    }
  ]
}